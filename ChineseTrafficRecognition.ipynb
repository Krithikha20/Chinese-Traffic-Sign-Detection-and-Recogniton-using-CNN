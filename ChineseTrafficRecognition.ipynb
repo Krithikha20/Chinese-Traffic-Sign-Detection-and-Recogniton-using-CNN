{
 "cells": [
  {
   "cell_type": "markdown",
   "metadata": {},
   "source": [
    "# Traffic Signs Classification Project\n",
    "\n",
    "In cities, public services are being enhanced by using the data collected from sensors and IoT. Traffic systems are capable of processing and analyzing a variety of data types, including images and videos. The systems with the aid of computer vision techniques are able to recognize objects in images and video from traffic cameras, by breaking them into identifying features, and matching them to classes.This can allow a self-driving car to make important decision since one of the main problems for self-driving cars is being able to classify an image of a traffic sign since they are in different shapes and sizes. "
   ]
  },
  {
   "cell_type": "markdown",
   "metadata": {},
   "source": [
    "# Chinese Data set"
   ]
  },
  {
   "cell_type": "code",
   "execution_count": 1,
   "metadata": {},
   "outputs": [],
   "source": [
    "# Importing Libraries\n",
    "import os\n",
    "import cv2\n",
    "from PIL import Image\n",
    "import pandas as pd\n",
    "import numpy as np\n",
    "import random\n",
    "import itertools\n",
    "import matplotlib.pyplot as plt\n",
    "import tensorflow as tf\n",
    "import seaborn as sns\n",
    "import tensorflow.keras as keras\n",
    "from tensorflow import keras\n",
    "from tensorflow.keras.layers import Flatten, Conv2D, MaxPooling2D, Dropout, Dense\n",
    "from tensorflow.keras.utils import to_categorical\n",
    "from sklearn.model_selection import train_test_split\n",
    "from sklearn.metrics import accuracy_score, confusion_matrix, classification_report, precision_score, recall_score, f1_score\n",
    "import math\n",
    "\n",
    "\n",
    "data_path = r'Chinese'\n",
    "train_path = os.path.join(data_path, 'TsignRecgTrain4170Annotation.csv')\n",
    "test_path = os.path.join(data_path, 'TsignRecgTest1994Annotation.csv')\n",
    "\n",
    "labels = ['5', '15', '30', '40', '50', '60', '70', '80', 'no entry', 'no straight road', \n",
    "         '10', '11', '12', '13', '14', '15', '16', '18', '19',\n",
    "         '20', '21', '22', '23', '24', '25', '26', '27', '28', '29', \n",
    "         '30', '31', '32', '33', '34', '35', '36', '37', '38', '39', \n",
    "         '40', '41', '42', '43', '44', '45', '46', '47', '48', '49', \n",
    "         '50', '51', '52', '53', '54', '55', '56', '57',]\n"
   ]
  },
  {
   "cell_type": "code",
   "execution_count": 53,
   "metadata": {},
   "outputs": [],
   "source": [
    "labels = ['5km', '15km', '30km', '40km', '50km', '60km', '70km', '80km', 'no entry', 'no straight road', \n",
    "         '10', '11', '12', '13', '14', '15', '16', '18', '19',\n",
    "         '20', '21', '22', '23', '24', '25', '26', '27', '28', '29', \n",
    "         '30', '31', '32', '33', '34', '35', '36', '37', '38', '39', \n",
    "         '40', '41', '42', '43', '44', '45', '46', '47', '48', '49', \n",
    "         '50', '51', '52', '53', '54', '55', '56', '57',]\n"
   ]
  },
  {
   "cell_type": "code",
   "execution_count": 2,
   "metadata": {},
   "outputs": [
    {
     "data": {
      "text/html": [
       "<div>\n",
       "<style scoped>\n",
       "    .dataframe tbody tr th:only-of-type {\n",
       "        vertical-align: middle;\n",
       "    }\n",
       "\n",
       "    .dataframe tbody tr th {\n",
       "        vertical-align: top;\n",
       "    }\n",
       "\n",
       "    .dataframe thead th {\n",
       "        text-align: right;\n",
       "    }\n",
       "</style>\n",
       "<table border=\"1\" class=\"dataframe\">\n",
       "  <thead>\n",
       "    <tr style=\"text-align: right;\">\n",
       "      <th></th>\n",
       "      <th>filename</th>\n",
       "      <th>width</th>\n",
       "      <th>height</th>\n",
       "      <th>x1</th>\n",
       "      <th>y1</th>\n",
       "      <th>x2</th>\n",
       "      <th>y2</th>\n",
       "      <th>category</th>\n",
       "      <th>Path</th>\n",
       "    </tr>\n",
       "  </thead>\n",
       "  <tbody>\n",
       "    <tr>\n",
       "      <th>3493</th>\n",
       "      <td>014_1_0058.png</td>\n",
       "      <td>161</td>\n",
       "      <td>141</td>\n",
       "      <td>17</td>\n",
       "      <td>12</td>\n",
       "      <td>152</td>\n",
       "      <td>125</td>\n",
       "      <td>14</td>\n",
       "      <td>Chinese/TSRD-Train/014_1_0058.png</td>\n",
       "    </tr>\n",
       "    <tr>\n",
       "      <th>2842</th>\n",
       "      <td>037_1_0006_1_j.png</td>\n",
       "      <td>121</td>\n",
       "      <td>115</td>\n",
       "      <td>24</td>\n",
       "      <td>28</td>\n",
       "      <td>88</td>\n",
       "      <td>87</td>\n",
       "      <td>37</td>\n",
       "      <td>Chinese/TSRD-Train/037_1_0006_1_j.png</td>\n",
       "    </tr>\n",
       "    <tr>\n",
       "      <th>2356</th>\n",
       "      <td>007_1_0007.png</td>\n",
       "      <td>150</td>\n",
       "      <td>129</td>\n",
       "      <td>19</td>\n",
       "      <td>10</td>\n",
       "      <td>133</td>\n",
       "      <td>118</td>\n",
       "      <td>7</td>\n",
       "      <td>Chinese/TSRD-Train/007_1_0007.png</td>\n",
       "    </tr>\n",
       "    <tr>\n",
       "      <th>2804</th>\n",
       "      <td>035_1_0047.png</td>\n",
       "      <td>127</td>\n",
       "      <td>130</td>\n",
       "      <td>20</td>\n",
       "      <td>21</td>\n",
       "      <td>116</td>\n",
       "      <td>104</td>\n",
       "      <td>35</td>\n",
       "      <td>Chinese/TSRD-Train/035_1_0047.png</td>\n",
       "    </tr>\n",
       "    <tr>\n",
       "      <th>1669</th>\n",
       "      <td>028_0133.png</td>\n",
       "      <td>207</td>\n",
       "      <td>180</td>\n",
       "      <td>37</td>\n",
       "      <td>35</td>\n",
       "      <td>159</td>\n",
       "      <td>158</td>\n",
       "      <td>28</td>\n",
       "      <td>Chinese/TSRD-Train/028_0133.png</td>\n",
       "    </tr>\n",
       "  </tbody>\n",
       "</table>\n",
       "</div>"
      ],
      "text/plain": [
       "                filename  width  height  x1  y1   x2   y2  category  \\\n",
       "3493      014_1_0058.png    161     141  17  12  152  125        14   \n",
       "2842  037_1_0006_1_j.png    121     115  24  28   88   87        37   \n",
       "2356      007_1_0007.png    150     129  19  10  133  118         7   \n",
       "2804      035_1_0047.png    127     130  20  21  116  104        35   \n",
       "1669        028_0133.png    207     180  37  35  159  158        28   \n",
       "\n",
       "                                       Path  \n",
       "3493      Chinese/TSRD-Train/014_1_0058.png  \n",
       "2842  Chinese/TSRD-Train/037_1_0006_1_j.png  \n",
       "2356      Chinese/TSRD-Train/007_1_0007.png  \n",
       "2804      Chinese/TSRD-Train/035_1_0047.png  \n",
       "1669        Chinese/TSRD-Train/028_0133.png  "
      ]
     },
     "execution_count": 2,
     "metadata": {},
     "output_type": "execute_result"
    }
   ],
   "source": [
    "test_color = '#630f8e'\n",
    "train_color = '#0f7b8e'\n",
    "trainDf = pd.read_csv(train_path)\n",
    "testDf = pd.read_csv(test_path)\n",
    "    \n",
    "trainDf['Path'] = list(map(lambda x: os.path.join(data_path,'TSRD-Train/'+ x.lower() ), trainDf['filename']))\n",
    "testDf['Path'] = list(map(lambda x: os.path.join(data_path,'TSRD-Test/'+ x.lower() ), testDf['filename']))\n",
    "\n",
    "trainDf.sample(5)"
   ]
  },
  {
   "cell_type": "code",
   "execution_count": 3,
   "metadata": {},
   "outputs": [
    {
     "data": {
      "text/html": [
       "<div>\n",
       "<style scoped>\n",
       "    .dataframe tbody tr th:only-of-type {\n",
       "        vertical-align: middle;\n",
       "    }\n",
       "\n",
       "    .dataframe tbody tr th {\n",
       "        vertical-align: top;\n",
       "    }\n",
       "\n",
       "    .dataframe thead th {\n",
       "        text-align: right;\n",
       "    }\n",
       "</style>\n",
       "<table border=\"1\" class=\"dataframe\">\n",
       "  <thead>\n",
       "    <tr style=\"text-align: right;\">\n",
       "      <th></th>\n",
       "      <th>filename</th>\n",
       "      <th>width</th>\n",
       "      <th>height</th>\n",
       "      <th>x1</th>\n",
       "      <th>y1</th>\n",
       "      <th>x2</th>\n",
       "      <th>y2</th>\n",
       "      <th>category</th>\n",
       "      <th>Path</th>\n",
       "    </tr>\n",
       "  </thead>\n",
       "  <tbody>\n",
       "    <tr>\n",
       "      <th>677</th>\n",
       "      <td>038_0008_j.png</td>\n",
       "      <td>131</td>\n",
       "      <td>110</td>\n",
       "      <td>28</td>\n",
       "      <td>25</td>\n",
       "      <td>86</td>\n",
       "      <td>80</td>\n",
       "      <td>38</td>\n",
       "      <td>Chinese/TSRD-Test/038_0008_j.png</td>\n",
       "    </tr>\n",
       "    <tr>\n",
       "      <th>1183</th>\n",
       "      <td>010_1_0002_1_j.png</td>\n",
       "      <td>97</td>\n",
       "      <td>98</td>\n",
       "      <td>6</td>\n",
       "      <td>6</td>\n",
       "      <td>88</td>\n",
       "      <td>90</td>\n",
       "      <td>10</td>\n",
       "      <td>Chinese/TSRD-Test/010_1_0002_1_j.png</td>\n",
       "    </tr>\n",
       "    <tr>\n",
       "      <th>531</th>\n",
       "      <td>026_0061_j.png</td>\n",
       "      <td>69</td>\n",
       "      <td>67</td>\n",
       "      <td>19</td>\n",
       "      <td>21</td>\n",
       "      <td>41</td>\n",
       "      <td>45</td>\n",
       "      <td>26</td>\n",
       "      <td>Chinese/TSRD-Test/026_0061_j.png</td>\n",
       "    </tr>\n",
       "    <tr>\n",
       "      <th>1069</th>\n",
       "      <td>003_1_0018_1_j.png</td>\n",
       "      <td>83</td>\n",
       "      <td>78</td>\n",
       "      <td>18</td>\n",
       "      <td>15</td>\n",
       "      <td>65</td>\n",
       "      <td>65</td>\n",
       "      <td>3</td>\n",
       "      <td>Chinese/TSRD-Test/003_1_0018_1_j.png</td>\n",
       "    </tr>\n",
       "    <tr>\n",
       "      <th>887</th>\n",
       "      <td>054_0031_j.png</td>\n",
       "      <td>76</td>\n",
       "      <td>82</td>\n",
       "      <td>8</td>\n",
       "      <td>12</td>\n",
       "      <td>67</td>\n",
       "      <td>73</td>\n",
       "      <td>54</td>\n",
       "      <td>Chinese/TSRD-Test/054_0031_j.png</td>\n",
       "    </tr>\n",
       "  </tbody>\n",
       "</table>\n",
       "</div>"
      ],
      "text/plain": [
       "                filename  width  height  x1  y1  x2  y2  category  \\\n",
       "677       038_0008_j.png    131     110  28  25  86  80        38   \n",
       "1183  010_1_0002_1_j.png     97      98   6   6  88  90        10   \n",
       "531       026_0061_j.png     69      67  19  21  41  45        26   \n",
       "1069  003_1_0018_1_j.png     83      78  18  15  65  65         3   \n",
       "887       054_0031_j.png     76      82   8  12  67  73        54   \n",
       "\n",
       "                                      Path  \n",
       "677       Chinese/TSRD-Test/038_0008_j.png  \n",
       "1183  Chinese/TSRD-Test/010_1_0002_1_j.png  \n",
       "531       Chinese/TSRD-Test/026_0061_j.png  \n",
       "1069  Chinese/TSRD-Test/003_1_0018_1_j.png  \n",
       "887       Chinese/TSRD-Test/054_0031_j.png  "
      ]
     },
     "execution_count": 3,
     "metadata": {},
     "output_type": "execute_result"
    }
   ],
   "source": [
    "testDf.sample(5)"
   ]
  },
  {
   "cell_type": "code",
   "execution_count": 4,
   "metadata": {},
   "outputs": [
    {
     "name": "stderr",
     "output_type": "stream",
     "text": [
      "/Users/satinsin/opt/anaconda3/lib/python3.8/site-packages/seaborn/_decorators.py:36: FutureWarning: Pass the following variable as a keyword arg: x. From version 0.12, the only valid positional argument will be `data`, and passing other arguments without an explicit keyword will result in an error or misinterpretation.\n",
      "  warnings.warn(\n"
     ]
    },
    {
     "data": {
      "text/plain": [
       "<AxesSubplot:xlabel='category', ylabel='count'>"
      ]
     },
     "execution_count": 4,
     "metadata": {},
     "output_type": "execute_result"
    },
    {
     "data": {
      "image/png": "[encoded data removed]",
      "text/plain": [
       "<Figure size 1800x576 with 1 Axes>"
      ]
     },
     "metadata": {
      "needs_background": "light"
     },
     "output_type": "display_data"
    }
   ],
   "source": [
    "fig, axs = plt.subplots(1, 1, sharex=True, sharey=True, figsize=(25, 8))\n",
    "\n",
    "sns.countplot(trainDf.category, palette=['#432371',\"#FAAE7B\",\"#1B9E77\", \"#D95F02\", \"#7570B3\", \"#E7298A\", \"#66A61E\", \"#E6AB02\", \"#A6761D\"])\n"
   ]
  },
  {
   "cell_type": "markdown",
   "metadata": {},
   "source": [
    "\n"
   ]
  },
  {
   "cell_type": "code",
   "execution_count": 5,
   "metadata": {},
   "outputs": [
    {
     "name": "stdout",
     "output_type": "stream",
     "text": [
      "[16 36 17 ... 27 10 17]\n",
      "(4170, 30, 30, 3) (4170,)\n"
     ]
    }
   ],
   "source": [
    "data=[]\n",
    "labels1=[]\n",
    "\n",
    "for ip in os.listdir(data_path + '/TSRD-Train'):\n",
    "    try:\n",
    "        image=Image.open(data_path + '/TSRD-Train/' + ip)\n",
    "        size_image = image.resize((30, 30))\n",
    "        data.append(np.array(size_image))\n",
    "        labels1.append(int(ip.split('_')[0]))\n",
    "\n",
    "    except AttributeError:\n",
    "        break\n",
    "        \n",
    "data=np.array(data)\n",
    "labels1=np.array(labels1)\n",
    "\n",
    "print(labels1)\n",
    "print(data.shape,labels1.shape)"
   ]
  },
  {
   "cell_type": "code",
   "execution_count": 6,
   "metadata": {},
   "outputs": [],
   "source": [
    "Xtrain,Xtest,ytrain,ytest=train_test_split(data,labels1,test_size=0.2,random_state=42)"
   ]
  },
  {
   "cell_type": "code",
   "execution_count": 7,
   "metadata": {},
   "outputs": [
    {
     "name": "stdout",
     "output_type": "stream",
     "text": [
      "(3336, 30, 30, 3) (834, 30, 30, 3) (3336,) (834,)\n"
     ]
    }
   ],
   "source": [
    "print(Xtrain.shape,Xtest.shape,ytrain.shape,ytest.shape)"
   ]
  },
  {
   "cell_type": "code",
   "execution_count": null,
   "metadata": {},
   "outputs": [],
   "source": []
  },
  {
   "cell_type": "code",
   "execution_count": 8,
   "metadata": {},
   "outputs": [],
   "source": [
    "ytrain=to_categorical(ytrain,58)\n",
    "ytest=to_categorical(ytest,58)"
   ]
  },
  {
   "cell_type": "code",
   "execution_count": 9,
   "metadata": {},
   "outputs": [
    {
     "name": "stdout",
     "output_type": "stream",
     "text": [
      "(3336, 30, 30, 3) (834, 30, 30, 3) (3336, 58) (834, 58)\n"
     ]
    }
   ],
   "source": [
    "print(Xtrain.shape,Xtest.shape,ytrain.shape,ytest.shape)"
   ]
  },
  {
   "cell_type": "code",
   "execution_count": 10,
   "metadata": {},
   "outputs": [],
   "source": [
    "filters = [3, 5, 9, 13]\n",
    "model1 = [0] * len(filters)\n",
    "\n",
    "for i in range(len(model1)):\n",
    "    model1[i] = tf.keras.Sequential()\n",
    "    model1[i].add(Conv2D(filters=32, kernel_size=filters[i], padding='same',activation='relu', input_shape=(30,30,3)))\n",
    "    model1[i].add(MaxPooling2D(pool_size=2))\n",
    "    model1[i].add(Flatten())\n",
    "    model1[i].add(Dense(500, activation='relu'))\n",
    "    model1[i].add(Dense(58, activation='softmax'))\n",
    "\n",
    "    #Compilation of the model\n",
    "    model1[i].compile(\n",
    "    loss='categorical_crossentropy', \n",
    "    optimizer='adam', \n",
    "    metrics=['accuracy'])\n",
    "    "
   ]
  },
  {
   "cell_type": "code",
   "execution_count": 11,
   "metadata": {},
   "outputs": [],
   "source": [
    "epochs=5\n",
    "annealer = tf.keras.callbacks.LearningRateScheduler(lambda x: 1e-3 * 0.95 ** (x + epochs))"
   ]
  },
  {
   "cell_type": "code",
   "execution_count": 12,
   "metadata": {
    "scrolled": true
   },
   "outputs": [
    {
     "name": "stdout",
     "output_type": "stream",
     "text": [
      "Model with filters 3x3, epochs=5, training accuracy=0.98082,validation accuracy=0.96043\n",
      "training loss=8.89843,validation loss=0.56833\n",
      "Model with filters 5x5, epochs=5, training accuracy=0.95833,validation accuracy=0.96523\n",
      "training loss=5.18493,validation loss=1.14606\n",
      "Model with filters 9x9, epochs=5, training accuracy=0.81445,validation accuracy=0.83693\n",
      "training loss=5.12006,validation loss=3.49065\n",
      "Model with filters 13x13, epochs=5, training accuracy=0.11331,validation accuracy=0.12110\n",
      "training loss=4.79659,validation loss=3.57040\n"
     ]
    }
   ],
   "source": [
    "history = [0] * len(model1)\n",
    "\n",
    "for i in range(len(history)):\n",
    "    history[i] = model1[i].fit(Xtrain, ytrain,\n",
    "                        batch_size=5, epochs = 5,\n",
    "                        validation_data = (Xtest, ytest),\n",
    "                        callbacks=[annealer], verbose=0)\n",
    "    \n",
    "    print('Model with filters {0:d}x{0:d}, epochs={1:d}, training accuracy={2:.5f},validation accuracy={3:.5f}'.\\\n",
    "          format(filters[i], epochs, max(history[i].history['accuracy']),max(history[i].history['val_accuracy'])))\n",
    "    print('training loss={0:.5f},validation loss={1:.5f}'.\\\n",
    "          format(max(history[i].history['loss']),max(history[i].history['val_loss'])))"
   ]
  },
  {
   "cell_type": "code",
   "execution_count": null,
   "metadata": {},
   "outputs": [],
   "source": []
  },
  {
   "cell_type": "code",
   "execution_count": 13,
   "metadata": {},
   "outputs": [
    {
     "data": {
      "image/png": "[encoded data removed]",
      "text/plain": [
       "<Figure size 720x720 with 2 Axes>"
      ]
     },
     "metadata": {
      "needs_background": "light"
     },
     "output_type": "display_data"
    }
   ],
   "source": [
    "plt.rcParams['figure.figsize'] = (10.0, 10.0) # Setting default size of plots\n",
    "plt.rcParams['image.interpolation'] = 'nearest'\n",
    "plt.rcParams['font.family'] = 'Times New Roman'\n",
    "\n",
    "# Figure 4.1.1 - Plotting history of training accuracy\n",
    "fig = plt.figure()\n",
    "plt.subplot(2, 1, 1)\n",
    "plt.plot(history[3].history['accuracy'], '-o', linewidth=3.0)\n",
    "plt.plot(history[2].history['accuracy'], '-o', linewidth=3.0)\n",
    "plt.plot(history[1].history['accuracy'], '-o', linewidth=3.0)\n",
    "plt.plot(history[0].history['accuracy'], '-o', linewidth=3.0)\n",
    "plt.legend(['filter 13', 'filter 9', 'filter 5', 'filter 3'], loc='lower right', fontsize='large', borderpad=2)\n",
    "plt.xlabel('Epoch', fontsize=20, fontname='Times New Roman')\n",
    "plt.ylabel('Training Accuracy', fontsize=20, fontname='Times New Roman')\n",
    "plt.yscale('linear')  # {\"linear\", \"log\", \"symlog\", \"logit\", ...}\n",
    "plt.ylim(0.00, 1.0)\n",
    "plt.xlim(0.5, 5.3) \n",
    "plt.title('Accuracy for different sizes of filters', fontsize=22)\n",
    "plt.tick_params(labelsize=18)\n",
    "\n",
    "# Figure 4.1.2 - Plotting history of validation accuracy\n",
    "plt.subplot(2, 1, 2)\n",
    "# plt.gca().set_title('Validation accuracy')\n",
    "plt.plot(history[3].history['val_accuracy'], '-o', linewidth=3.0)\n",
    "plt.plot(history[2].history['val_accuracy'], '-o', linewidth=3.0)\n",
    "plt.plot(history[1].history['val_accuracy'], '-o', linewidth=3.0)\n",
    "plt.plot(history[0].history['val_accuracy'], '-o', linewidth=3.0)\n",
    "plt.legend(['filter 13', 'filter 9', 'filter 5', 'filter 3'], loc='lower right', fontsize='large', borderpad=2)\n",
    "plt.xlabel('Epoch', fontsize=20, fontname='Times New Roman')\n",
    "plt.ylabel('Validation Accuracy', fontsize=20, fontname='Times New Roman')\n",
    "plt.yscale('linear')  # {\"linear\", \"log\", \"symlog\", \"logit\", ...}\n",
    "plt.ylim(0.00, 1.0)\n",
    "plt.xlim(0.5, 5.3)\n",
    "plt.tick_params(labelsize=18)\n",
    "\n",
    "# Showing the plot\n",
    "plt.show()\n",
    "\n",
    "# Saving the plot\n",
    "fig.savefig('models_accuracy.png')\n",
    "plt.close()"
   ]
  },
  {
   "cell_type": "code",
   "execution_count": 14,
   "metadata": {},
   "outputs": [
    {
     "name": "stdout",
     "output_type": "stream",
     "text": [
      "filter 3 testing accuracy = 0.05379\n",
      "filter 5 testing accuracy = 0.10463\n",
      "filter 9 testing accuracy = 0.13413\n",
      "filter 13 testing accuracy = 0.00006\n"
     ]
    }
   ],
   "source": [
    "for i in range(len(model1)):\n",
    "    temp = model1[i].predict(Xtest)\n",
    "    acc = np.sum(temp == ytest) / np.size(ytest)\n",
    "    \n",
    "    print('filter {0:d} testing accuracy = {1:.5f}'.format(filters[i], acc))"
   ]
  },
  {
   "cell_type": "code",
   "execution_count": 15,
   "metadata": {},
   "outputs": [],
   "source": [
    "model = keras.Sequential()\n",
    "model.add(Conv2D(filters=32, kernel_size=(5,5), activation='relu', input_shape=(30,30,3)))\n",
    "model.add(Conv2D(filters=64, kernel_size=(3,3), activation='relu'))\n",
    "model.add(MaxPooling2D(pool_size=(2, 2)))\n",
    "model.add(Dropout(rate=0.25))\n",
    "model.add(Conv2D(filters=64, kernel_size=(3,3), activation='relu'))\n",
    "model.add(MaxPooling2D(pool_size=(2, 2)))\n",
    "model.add(Dropout(rate=0.25))\n",
    "model.add(Flatten())\n",
    "model.add(Dense(256, activation='relu'))\n",
    "model.add(Dropout(rate=0.5))\n",
    "model.add(Dense(58, activation='softmax'))\n",
    "\n",
    "#Compiling of the model\n",
    "model.compile(\n",
    "    loss='categorical_crossentropy', \n",
    "    optimizer='adam', \n",
    "    metrics=['accuracy']\n",
    ")"
   ]
  },
  {
   "cell_type": "code",
   "execution_count": 35,
   "metadata": {},
   "outputs": [
    {
     "name": "stdout",
     "output_type": "stream",
     "text": [
      "Epoch 1/50\n",
      "53/53 [==============================] - 4s 77ms/step - loss: 0.5487 - accuracy: 0.8498 - val_loss: 0.3335 - val_accuracy: 0.9041\n",
      "Epoch 2/50\n",
      "53/53 [==============================] - 4s 76ms/step - loss: 0.5308 - accuracy: 0.8492 - val_loss: 0.3235 - val_accuracy: 0.8993\n",
      "Epoch 3/50\n",
      "53/53 [==============================] - 4s 75ms/step - loss: 0.4816 - accuracy: 0.8546 - val_loss: 0.3144 - val_accuracy: 0.9029\n",
      "Epoch 4/50\n",
      "53/53 [==============================] - 4s 75ms/step - loss: 0.5015 - accuracy: 0.8561 - val_loss: 0.2985 - val_accuracy: 0.9089\n",
      "Epoch 5/50\n",
      "53/53 [==============================] - 4s 76ms/step - loss: 0.4729 - accuracy: 0.8687 - val_loss: 0.2942 - val_accuracy: 0.9137\n",
      "Epoch 6/50\n",
      "53/53 [==============================] - 4s 75ms/step - loss: 0.4685 - accuracy: 0.8660 - val_loss: 0.2917 - val_accuracy: 0.9077\n",
      "Epoch 7/50\n",
      "53/53 [==============================] - 4s 75ms/step - loss: 0.4593 - accuracy: 0.8642 - val_loss: 0.2772 - val_accuracy: 0.9173\n",
      "Epoch 8/50\n",
      "53/53 [==============================] - 4s 75ms/step - loss: 0.4649 - accuracy: 0.8657 - val_loss: 0.2710 - val_accuracy: 0.9221\n",
      "Epoch 9/50\n",
      "53/53 [==============================] - 4s 75ms/step - loss: 0.4491 - accuracy: 0.8678 - val_loss: 0.2687 - val_accuracy: 0.9173\n",
      "Epoch 10/50\n",
      "53/53 [==============================] - 4s 75ms/step - loss: 0.4165 - accuracy: 0.8747 - val_loss: 0.2630 - val_accuracy: 0.9197\n",
      "Epoch 11/50\n",
      "53/53 [==============================] - 4s 75ms/step - loss: 0.4094 - accuracy: 0.8810 - val_loss: 0.2568 - val_accuracy: 0.9221\n",
      "Epoch 12/50\n",
      "53/53 [==============================] - 4s 75ms/step - loss: 0.4296 - accuracy: 0.8708 - val_loss: 0.2442 - val_accuracy: 0.9305\n",
      "Epoch 13/50\n",
      "53/53 [==============================] - 4s 76ms/step - loss: 0.4081 - accuracy: 0.8789 - val_loss: 0.2456 - val_accuracy: 0.9209\n",
      "Epoch 14/50\n",
      "53/53 [==============================] - 4s 75ms/step - loss: 0.4141 - accuracy: 0.8849 - val_loss: 0.2407 - val_accuracy: 0.9281\n",
      "Epoch 15/50\n",
      "53/53 [==============================] - 4s 75ms/step - loss: 0.3885 - accuracy: 0.8921 - val_loss: 0.2349 - val_accuracy: 0.9341\n",
      "Epoch 16/50\n",
      "53/53 [==============================] - 4s 75ms/step - loss: 0.3796 - accuracy: 0.8882 - val_loss: 0.2299 - val_accuracy: 0.9353\n",
      "Epoch 17/50\n",
      "53/53 [==============================] - 4s 76ms/step - loss: 0.3719 - accuracy: 0.8888 - val_loss: 0.2252 - val_accuracy: 0.9341\n",
      "Epoch 18/50\n",
      "53/53 [==============================] - 4s 74ms/step - loss: 0.3613 - accuracy: 0.8906 - val_loss: 0.2180 - val_accuracy: 0.9365\n",
      "Epoch 19/50\n",
      "53/53 [==============================] - 4s 74ms/step - loss: 0.3597 - accuracy: 0.8930 - val_loss: 0.2157 - val_accuracy: 0.9353\n",
      "Epoch 20/50\n",
      "53/53 [==============================] - 4s 74ms/step - loss: 0.3779 - accuracy: 0.8834 - val_loss: 0.2133 - val_accuracy: 0.9376\n",
      "Epoch 21/50\n",
      "53/53 [==============================] - 4s 74ms/step - loss: 0.3704 - accuracy: 0.8909 - val_loss: 0.2151 - val_accuracy: 0.9341\n",
      "Epoch 22/50\n",
      "53/53 [==============================] - 4s 74ms/step - loss: 0.3620 - accuracy: 0.8954 - val_loss: 0.2088 - val_accuracy: 0.9388\n",
      "Epoch 23/50\n",
      "53/53 [==============================] - 4s 74ms/step - loss: 0.3655 - accuracy: 0.8996 - val_loss: 0.2077 - val_accuracy: 0.9353\n",
      "Epoch 24/50\n",
      "53/53 [==============================] - 4s 74ms/step - loss: 0.3666 - accuracy: 0.8882 - val_loss: 0.2062 - val_accuracy: 0.9400\n",
      "Epoch 25/50\n",
      "53/53 [==============================] - 4s 74ms/step - loss: 0.3619 - accuracy: 0.8975 - val_loss: 0.2053 - val_accuracy: 0.9400\n",
      "Epoch 26/50\n",
      "53/53 [==============================] - 4s 75ms/step - loss: 0.3242 - accuracy: 0.9035 - val_loss: 0.1990 - val_accuracy: 0.9424\n",
      "Epoch 27/50\n",
      "53/53 [==============================] - 4s 74ms/step - loss: 0.3584 - accuracy: 0.8921 - val_loss: 0.1998 - val_accuracy: 0.9388\n",
      "Epoch 28/50\n",
      "53/53 [==============================] - 4s 75ms/step - loss: 0.3276 - accuracy: 0.9092 - val_loss: 0.1989 - val_accuracy: 0.9388\n",
      "Epoch 29/50\n",
      "53/53 [==============================] - 4s 77ms/step - loss: 0.3290 - accuracy: 0.9044 - val_loss: 0.1955 - val_accuracy: 0.9460\n",
      "Epoch 30/50\n",
      "53/53 [==============================] - 4s 77ms/step - loss: 0.3326 - accuracy: 0.9020 - val_loss: 0.1949 - val_accuracy: 0.9424\n",
      "Epoch 31/50\n",
      "53/53 [==============================] - 4s 78ms/step - loss: 0.3170 - accuracy: 0.9077 - val_loss: 0.1896 - val_accuracy: 0.9460\n",
      "Epoch 32/50\n",
      "53/53 [==============================] - 4s 77ms/step - loss: 0.3333 - accuracy: 0.9008 - val_loss: 0.1913 - val_accuracy: 0.9424\n",
      "Epoch 33/50\n",
      "53/53 [==============================] - 4s 78ms/step - loss: 0.3175 - accuracy: 0.9104 - val_loss: 0.1901 - val_accuracy: 0.9472\n",
      "Epoch 34/50\n",
      "53/53 [==============================] - 4s 77ms/step - loss: 0.3340 - accuracy: 0.8966 - val_loss: 0.1887 - val_accuracy: 0.9448\n",
      "Epoch 35/50\n",
      "53/53 [==============================] - 4s 76ms/step - loss: 0.3185 - accuracy: 0.9098 - val_loss: 0.1896 - val_accuracy: 0.9424\n",
      "Epoch 36/50\n",
      "53/53 [==============================] - 4s 77ms/step - loss: 0.3136 - accuracy: 0.9077 - val_loss: 0.1877 - val_accuracy: 0.9460\n",
      "Epoch 37/50\n",
      "53/53 [==============================] - 4s 78ms/step - loss: 0.3278 - accuracy: 0.8993 - val_loss: 0.1847 - val_accuracy: 0.9508\n",
      "Epoch 38/50\n",
      "53/53 [==============================] - 4s 77ms/step - loss: 0.3031 - accuracy: 0.9068 - val_loss: 0.1857 - val_accuracy: 0.9448\n",
      "Epoch 39/50\n",
      "53/53 [==============================] - 4s 79ms/step - loss: 0.3272 - accuracy: 0.9056 - val_loss: 0.1836 - val_accuracy: 0.9484\n",
      "Epoch 40/50\n",
      "53/53 [==============================] - 5s 86ms/step - loss: 0.3118 - accuracy: 0.9074 - val_loss: 0.1827 - val_accuracy: 0.9460\n",
      "Epoch 41/50\n",
      "53/53 [==============================] - 5s 85ms/step - loss: 0.3239 - accuracy: 0.9050 - val_loss: 0.1825 - val_accuracy: 0.9460\n",
      "Epoch 42/50\n",
      "53/53 [==============================] - 5s 88ms/step - loss: 0.3220 - accuracy: 0.9062 - val_loss: 0.1797 - val_accuracy: 0.9520\n",
      "Epoch 43/50\n",
      "53/53 [==============================] - 5s 88ms/step - loss: 0.2900 - accuracy: 0.9161 - val_loss: 0.1786 - val_accuracy: 0.9484\n",
      "Epoch 44/50\n",
      "53/53 [==============================] - 5s 87ms/step - loss: 0.2939 - accuracy: 0.9131 - val_loss: 0.1770 - val_accuracy: 0.9520\n",
      "Epoch 45/50\n",
      "53/53 [==============================] - 5s 89ms/step - loss: 0.2838 - accuracy: 0.9173 - val_loss: 0.1770 - val_accuracy: 0.9496\n",
      "Epoch 46/50\n",
      "53/53 [==============================] - 5s 87ms/step - loss: 0.3038 - accuracy: 0.9089 - val_loss: 0.1765 - val_accuracy: 0.9508\n",
      "Epoch 47/50\n",
      "53/53 [==============================] - 5s 88ms/step - loss: 0.2895 - accuracy: 0.9125 - val_loss: 0.1751 - val_accuracy: 0.9520\n",
      "Epoch 48/50\n",
      "53/53 [==============================] - 5s 88ms/step - loss: 0.2898 - accuracy: 0.9125 - val_loss: 0.1760 - val_accuracy: 0.9484\n",
      "Epoch 49/50\n",
      "53/53 [==============================] - 5s 88ms/step - loss: 0.2888 - accuracy: 0.9128 - val_loss: 0.1738 - val_accuracy: 0.9532\n",
      "Epoch 50/50\n",
      "53/53 [==============================] - 5s 88ms/step - loss: 0.2933 - accuracy: 0.9143 - val_loss: 0.1733 - val_accuracy: 0.9532\n"
     ]
    }
   ],
   "source": [
    "#using ten epochs for the training and saving the accuracy for each epoch\n",
    "epochs = 50\n",
    "history1 = model.fit(Xtrain, ytrain, batch_size=64, epochs=epochs,validation_data=(Xtest, ytest),callbacks=[annealer])"
   ]
  },
  {
   "cell_type": "code",
   "execution_count": 36,
   "metadata": {},
   "outputs": [
    {
     "name": "stdout",
     "output_type": "stream",
     "text": [
      "Train: 0.985, Test: 0.953\n"
     ]
    }
   ],
   "source": [
    "_,train_acc=model.evaluate(Xtrain,ytrain,verbose=0)\n",
    "_,test_acc=model.evaluate(Xtest,ytest,verbose=0)\n",
    "\n",
    "print('Train: %.3f, Test: %.3f' % (train_acc, test_acc))"
   ]
  },
  {
   "cell_type": "code",
   "execution_count": 37,
   "metadata": {},
   "outputs": [
    {
     "data": {
      "image/png": "[encoded data removed]",
      "text/plain": [
       "<Figure size 720x720 with 1 Axes>"
      ]
     },
     "metadata": {
      "needs_background": "light"
     },
     "output_type": "display_data"
    },
    {
     "data": {
      "image/png": "[encoded data removed]",
      "text/plain": [
       "<Figure size 720x720 with 1 Axes>"
      ]
     },
     "metadata": {
      "needs_background": "light"
     },
     "output_type": "display_data"
    }
   ],
   "source": [
    "#Figure 4.2.1 - Plot to show changing accuracy with epochs\n",
    "fig1=plt.figure(0)\n",
    "plt.plot(history1.history['accuracy'], label='training accuracy')\n",
    "plt.plot(history1.history['val_accuracy'], label='val accuracy')\n",
    "plt.title('Accuracy')\n",
    "plt.xlabel('epochs')\n",
    "plt.ylabel('accuracy')\n",
    "plt.legend()\n",
    "fig1.savefig('Model_accuracy.png')\n",
    "\n",
    "#Figure 4.2.2 - Plot to show changing loss with epochs\n",
    "fig2=plt.figure(1)\n",
    "plt.plot(history1.history['loss'], label='training loss')\n",
    "plt.plot(history1.history['val_loss'], label='val loss')\n",
    "plt.title('Loss')\n",
    "plt.xlabel('epochs')\n",
    "plt.ylabel('loss')\n",
    "plt.legend()\n",
    "fig2.savefig('Model_loss.png')"
   ]
  },
  {
   "cell_type": "code",
   "execution_count": 38,
   "metadata": {},
   "outputs": [],
   "source": [
    "labels2=[]\n",
    "data2=[]\n",
    "\n",
    "for ip in os.listdir(data_path + '/TSRD-Test'):\n",
    "    try:\n",
    "        image=Image.open(data_path + '/TSRD-Test/' + ip)\n",
    "        size_image = image.resize((30, 30))\n",
    "        data2.append(np.array(size_image))\n",
    "        labels2.append(int(ip.split('_')[0]))\n",
    "\n",
    "    except AttributeError:\n",
    "        break\n",
    "        \n",
    "\n",
    "X_test=np.array(data2)"
   ]
  },
  {
   "cell_type": "code",
   "execution_count": 39,
   "metadata": {},
   "outputs": [],
   "source": [
    "predict_x=model.predict(X_test) \n",
    "pred_classes=np.argmax(predict_x,axis=1)\n",
    "# pred_classes = model.predict(X_test)"
   ]
  },
  {
   "cell_type": "code",
   "execution_count": 40,
   "metadata": {},
   "outputs": [
    {
     "name": "stdout",
     "output_type": "stream",
     "text": [
      "Accuracy= 0.6629889669007021\n"
     ]
    }
   ],
   "source": [
    "# accuracy\n",
    "print('Accuracy=',accuracy_score(labels2, pred_classes))"
   ]
  },
  {
   "cell_type": "code",
   "execution_count": 41,
   "metadata": {},
   "outputs": [
    {
     "name": "stdout",
     "output_type": "stream",
     "text": [
      "              precision    recall  f1-score   support\n",
      "\n",
      "          26       0.98      0.91      0.95       134\n",
      "          36       0.00      0.00      0.00        12\n",
      "          26       0.98      0.91      0.95       134\n",
      "          50       0.29      0.40      0.33        20\n",
      "          54       0.91      1.00      0.95       176\n",
      "          13       1.00      0.67      0.81        92\n",
      "          14       1.00      0.83      0.91        12\n",
      "          15       1.00      0.28      0.43        36\n",
      "          54       0.91      1.00      0.95       176\n",
      "          43       0.58      0.19      0.29       116\n",
      "          30       0.57      0.71      0.63        34\n",
      "          10       0.97      0.97      0.97        60\n",
      "           5       0.44      0.28      0.34        50\n",
      "           7       0.50      0.16      0.24        50\n",
      "           5       0.44      0.28      0.34        50\n",
      "          10       0.97      0.97      0.97        60\n",
      "          15       1.00      0.28      0.43        36\n",
      "          35       0.35      0.83      0.49        46\n",
      "          35       0.35      0.83      0.49        46\n",
      "          41       0.00      0.00      0.00         8\n",
      "          28       0.82      0.68      0.74        68\n",
      "          35       0.35      0.83      0.49        46\n",
      "           5       0.44      0.28      0.34        50\n",
      "          30       0.57      0.71      0.63        34\n",
      "          26       0.98      0.91      0.95       134\n",
      "           2       0.37      0.47      0.41        60\n",
      "          26       0.98      0.91      0.95       134\n",
      "          52       0.86      0.40      0.55        30\n",
      "          13       1.00      0.67      0.81        92\n",
      "          30       0.57      0.71      0.63        34\n",
      "          55       0.85      1.00      0.92        58\n",
      "          16       0.62      1.00      0.77        76\n",
      "          11       0.93      0.95      0.94       130\n",
      "          26       0.98      0.91      0.95       134\n",
      "          16       0.62      1.00      0.77        76\n",
      "           3       0.73      0.88      0.80        84\n",
      "          16       0.62      1.00      0.77        76\n",
      "          38       0.20      0.05      0.08        40\n",
      "          43       0.58      0.19      0.29       116\n",
      "          29       1.00      1.00      1.00        26\n",
      "          43       0.58      0.19      0.29       116\n",
      "          11       0.93      0.95      0.94       130\n",
      "          15       1.00      0.28      0.43        36\n",
      "          55       0.85      1.00      0.92        58\n",
      "          13       1.00      0.67      0.81        92\n",
      "          42       0.17      0.22      0.19        18\n",
      "          35       0.35      0.83      0.49        46\n",
      "          28       0.82      0.68      0.74        68\n",
      "           6       0.86      0.80      0.83        30\n",
      "          39       0.46      0.40      0.43        30\n",
      "          15       1.00      0.28      0.43        36\n",
      "          29       1.00      1.00      1.00        26\n",
      "          44       0.00      0.00      0.00        24\n",
      "          51       1.00      0.50      0.67         4\n",
      "           4       0.44      0.62      0.51        58\n",
      "          36       0.00      0.00      0.00        12\n",
      "          54       0.91      1.00      0.95       176\n",
      "           3       0.73      0.88      0.80        84\n",
      "\n",
      "   micro avg       0.75      0.73      0.74      3890\n",
      "   macro avg       0.68      0.63      0.61      3890\n",
      "weighted avg       0.77      0.73      0.72      3890\n",
      "\n"
     ]
    },
    {
     "name": "stderr",
     "output_type": "stream",
     "text": [
      "/Users/satinsin/opt/anaconda3/lib/python3.8/site-packages/sklearn/utils/validation.py:70: FutureWarning: Pass labels=[26, 36, 26, 50, 54, 13, 14, 15, 54, 43, 30, 10, 5, 7, 5, 10, 15, 35, 35, 41, 28, 35, 5, 30, 26, 2, 26, 52, 13, 30, 55, 16, 11, 26, 16, 3, 16, 38, 43, 29, 43, 11, 15, 55, 13, 42, 35, 28, 6, 39, 15, 29, 44, 51, 4, 36, 54, 3] as keyword args. From version 1.0 (renaming of 0.25) passing these as positional arguments will result in an error\n",
      "  warnings.warn(f\"Pass {args_msg} as keyword args. From version \"\n"
     ]
    }
   ],
   "source": [
    "label_name=[labels2[i] for i in range(58)]\n",
    "print(classification_report(labels2,pred_classes,label_name))"
   ]
  },
  {
   "cell_type": "markdown",
   "metadata": {},
   "source": [
    "\n"
   ]
  },
  {
   "cell_type": "code",
   "execution_count": 42,
   "metadata": {},
   "outputs": [
    {
     "name": "stdout",
     "output_type": "stream",
     "text": [
      "Confusion matrix, without normalization\n"
     ]
    },
    {
     "data": {
      "image/png": "[encoded data removed]",
      "text/plain": [
       "<Figure size 720x576 with 2 Axes>"
      ]
     },
     "metadata": {
      "needs_background": "light"
     },
     "output_type": "display_data"
    }
   ],
   "source": [
    "# Figure 4.2.3 - Confussion matrix \n",
    "def plot_confusion_matrix(cm, classes,\n",
    "                          normalize=False,\n",
    "                          title='Confusion Matrix',\n",
    "                          cmap=plt.cm.Blues):\n",
    "    plt.figure(figsize=(10,8))\n",
    "    plt.imshow(cm, interpolation='nearest', cmap=cmap)\n",
    "    plt.title(title)\n",
    "    plt.colorbar()\n",
    "    tick_marks = np.arange(len(classes))\n",
    "    plt.xticks(tick_marks, classes, rotation=75) \n",
    "    plt.yticks(tick_marks, classes)\n",
    "\n",
    "    if normalize:\n",
    "        cm = cm.astype('float') / cm.sum(axis=1)[:, np.newaxis]\n",
    "        print(\"Normalized confusion matrix\")\n",
    "    else:\n",
    "        print('Confusion matrix, without normalization')\n",
    "    thresh = cm.max() / 2.\n",
    "    for i, j in itertools.product(range(cm.shape[0]), range(cm.shape[1])):\n",
    "            plt.text(j, i, cm[i, j],\n",
    "            horizontalalignment=\"center\",\n",
    "            color=\"white\" if cm[i, j] > thresh else \"black\")\n",
    "\n",
    "    plt.tight_layout()\n",
    "    plt.ylabel('True label')\n",
    "    plt.xlabel('Predicted label')\n",
    "\n",
    "class_names = range(54)\n",
    "cm = confusion_matrix(labels2,pred_classes)\n",
    "\n",
    "plot_confusion_matrix(cm, classes=class_names, title='Confusion matrix')"
   ]
  },
  {
   "cell_type": "markdown",
   "metadata": {},
   "source": [
    "\n"
   ]
  },
  {
   "cell_type": "code",
   "execution_count": 43,
   "metadata": {},
   "outputs": [
    {
     "data": {
      "text/html": [
       "<style  type=\"text/css\" >\n",
       "#T_f17e6_row0_col1,#T_f17e6_row8_col1{\n",
       "            width:  10em;\n",
       "             height:  80%;\n",
       "            background:  linear-gradient(90deg,orange 85.7%, transparent 85.7%);\n",
       "        }#T_f17e6_row1_col1,#T_f17e6_row16_col1{\n",
       "            width:  10em;\n",
       "             height:  80%;\n",
       "            background:  linear-gradient(90deg,orange 66.7%, transparent 66.7%);\n",
       "        }#T_f17e6_row2_col1{\n",
       "            width:  10em;\n",
       "             height:  80%;\n",
       "            background:  linear-gradient(90deg,orange 46.7%, transparent 46.7%);\n",
       "        }#T_f17e6_row3_col1{\n",
       "            width:  10em;\n",
       "             height:  80%;\n",
       "            background:  linear-gradient(90deg,orange 88.1%, transparent 88.1%);\n",
       "        }#T_f17e6_row4_col1{\n",
       "            width:  10em;\n",
       "             height:  80%;\n",
       "            background:  linear-gradient(90deg,orange 62.1%, transparent 62.1%);\n",
       "        }#T_f17e6_row5_col1{\n",
       "            width:  10em;\n",
       "             height:  80%;\n",
       "            background:  linear-gradient(90deg,orange 28.0%, transparent 28.0%);\n",
       "        }#T_f17e6_row6_col1{\n",
       "            width:  10em;\n",
       "             height:  80%;\n",
       "            background:  linear-gradient(90deg,orange 80.0%, transparent 80.0%);\n",
       "        }#T_f17e6_row7_col1{\n",
       "            width:  10em;\n",
       "             height:  80%;\n",
       "            background:  linear-gradient(90deg,orange 16.0%, transparent 16.0%);\n",
       "        }#T_f17e6_row9_col1{\n",
       "            width:  10em;\n",
       "             height:  80%;\n",
       "            background:  linear-gradient(90deg,orange 96.7%, transparent 96.7%);\n",
       "        }#T_f17e6_row10_col1{\n",
       "            width:  10em;\n",
       "             height:  80%;\n",
       "            background:  linear-gradient(90deg,orange 95.4%, transparent 95.4%);\n",
       "        }#T_f17e6_row11_col1,#T_f17e6_row15_col1,#T_f17e6_row22_col1,#T_f17e6_row26_col1,#T_f17e6_row41_col1,#T_f17e6_row43_col1,#T_f17e6_row44_col1,#T_f17e6_row49_col1,#T_f17e6_row50_col1,#T_f17e6_row51_col1,#T_f17e6_row53_col1{\n",
       "            width:  10em;\n",
       "             height:  80%;\n",
       "            background:  linear-gradient(90deg,orange 100.0%, transparent 100.0%);\n",
       "        }#T_f17e6_row12_col1{\n",
       "            width:  10em;\n",
       "             height:  80%;\n",
       "            background:  linear-gradient(90deg,orange 67.4%, transparent 67.4%);\n",
       "        }#T_f17e6_row13_col1{\n",
       "            width:  10em;\n",
       "             height:  80%;\n",
       "            background:  linear-gradient(90deg,orange 83.3%, transparent 83.3%);\n",
       "        }#T_f17e6_row14_col1{\n",
       "            width:  10em;\n",
       "             height:  80%;\n",
       "            background:  linear-gradient(90deg,orange 27.8%, transparent 27.8%);\n",
       "        }#T_f17e6_row17_col1,#T_f17e6_row20_col1,#T_f17e6_row29_col1,#T_f17e6_row30_col1,#T_f17e6_row32_col1,#T_f17e6_row37_col1,#T_f17e6_row40_col1,#T_f17e6_row42_col1,#T_f17e6_row45_col1{\n",
       "            width:  10em;\n",
       "             height:  80%;\n",
       "        }#T_f17e6_row18_col1,#T_f17e6_row47_col1{\n",
       "            width:  10em;\n",
       "             height:  80%;\n",
       "            background:  linear-gradient(90deg,orange 50.0%, transparent 50.0%);\n",
       "        }#T_f17e6_row19_col1{\n",
       "            width:  10em;\n",
       "             height:  80%;\n",
       "            background:  linear-gradient(90deg,orange 75.0%, transparent 75.0%);\n",
       "        }#T_f17e6_row21_col1{\n",
       "            width:  10em;\n",
       "             height:  80%;\n",
       "            background:  linear-gradient(90deg,orange 69.2%, transparent 69.2%);\n",
       "        }#T_f17e6_row23_col1{\n",
       "            width:  10em;\n",
       "             height:  80%;\n",
       "            background:  linear-gradient(90deg,orange 91.0%, transparent 91.0%);\n",
       "        }#T_f17e6_row24_col1{\n",
       "            width:  10em;\n",
       "             height:  80%;\n",
       "            background:  linear-gradient(90deg,orange 91.7%, transparent 91.7%);\n",
       "        }#T_f17e6_row25_col1{\n",
       "            width:  10em;\n",
       "             height:  80%;\n",
       "            background:  linear-gradient(90deg,orange 67.6%, transparent 67.6%);\n",
       "        }#T_f17e6_row27_col1{\n",
       "            width:  10em;\n",
       "             height:  80%;\n",
       "            background:  linear-gradient(90deg,orange 70.6%, transparent 70.6%);\n",
       "        }#T_f17e6_row28_col1{\n",
       "            width:  10em;\n",
       "             height:  80%;\n",
       "            background:  linear-gradient(90deg,orange 44.4%, transparent 44.4%);\n",
       "        }#T_f17e6_row31_col1{\n",
       "            width:  10em;\n",
       "             height:  80%;\n",
       "            background:  linear-gradient(90deg,orange 82.6%, transparent 82.6%);\n",
       "        }#T_f17e6_row33_col1{\n",
       "            width:  10em;\n",
       "             height:  80%;\n",
       "            background:  linear-gradient(90deg,orange 53.8%, transparent 53.8%);\n",
       "        }#T_f17e6_row34_col1{\n",
       "            width:  10em;\n",
       "             height:  80%;\n",
       "            background:  linear-gradient(90deg,orange 5.0%, transparent 5.0%);\n",
       "        }#T_f17e6_row35_col1,#T_f17e6_row46_col1,#T_f17e6_row48_col1{\n",
       "            width:  10em;\n",
       "             height:  80%;\n",
       "            background:  linear-gradient(90deg,orange 40.0%, transparent 40.0%);\n",
       "        }#T_f17e6_row36_col1{\n",
       "            width:  10em;\n",
       "             height:  80%;\n",
       "            background:  linear-gradient(90deg,orange 25.0%, transparent 25.0%);\n",
       "        }#T_f17e6_row38_col1{\n",
       "            width:  10em;\n",
       "             height:  80%;\n",
       "            background:  linear-gradient(90deg,orange 22.2%, transparent 22.2%);\n",
       "        }#T_f17e6_row39_col1{\n",
       "            width:  10em;\n",
       "             height:  80%;\n",
       "            background:  linear-gradient(90deg,orange 19.0%, transparent 19.0%);\n",
       "        }#T_f17e6_row52_col1{\n",
       "            width:  10em;\n",
       "             height:  80%;\n",
       "            background:  linear-gradient(90deg,orange 85.0%, transparent 85.0%);\n",
       "        }</style><table id=\"T_f17e6_\" ><thead>    <tr>        <th class=\"col_heading level0 col0\" >Class_Label</th>        <th class=\"col_heading level0 col1\" >Accuracy</th>    </tr></thead><tbody>\n",
       "                <tr>\n",
       "                                <td id=\"T_f17e6_row0_col0\" class=\"data row0 col0\" >0</td>\n",
       "                        <td id=\"T_f17e6_row0_col1\" class=\"data row0 col1\" >85.71</td>\n",
       "            </tr>\n",
       "            <tr>\n",
       "                                <td id=\"T_f17e6_row1_col0\" class=\"data row1 col0\" >1</td>\n",
       "                        <td id=\"T_f17e6_row1_col1\" class=\"data row1 col1\" >66.67</td>\n",
       "            </tr>\n",
       "            <tr>\n",
       "                                <td id=\"T_f17e6_row2_col0\" class=\"data row2 col0\" >2</td>\n",
       "                        <td id=\"T_f17e6_row2_col1\" class=\"data row2 col1\" >46.67</td>\n",
       "            </tr>\n",
       "            <tr>\n",
       "                                <td id=\"T_f17e6_row3_col0\" class=\"data row3 col0\" >3</td>\n",
       "                        <td id=\"T_f17e6_row3_col1\" class=\"data row3 col1\" >88.10</td>\n",
       "            </tr>\n",
       "            <tr>\n",
       "                                <td id=\"T_f17e6_row4_col0\" class=\"data row4 col0\" >4</td>\n",
       "                        <td id=\"T_f17e6_row4_col1\" class=\"data row4 col1\" >62.07</td>\n",
       "            </tr>\n",
       "            <tr>\n",
       "                                <td id=\"T_f17e6_row5_col0\" class=\"data row5 col0\" >5</td>\n",
       "                        <td id=\"T_f17e6_row5_col1\" class=\"data row5 col1\" >28.00</td>\n",
       "            </tr>\n",
       "            <tr>\n",
       "                                <td id=\"T_f17e6_row6_col0\" class=\"data row6 col0\" >6</td>\n",
       "                        <td id=\"T_f17e6_row6_col1\" class=\"data row6 col1\" >80.00</td>\n",
       "            </tr>\n",
       "            <tr>\n",
       "                                <td id=\"T_f17e6_row7_col0\" class=\"data row7 col0\" >7</td>\n",
       "                        <td id=\"T_f17e6_row7_col1\" class=\"data row7 col1\" >16.00</td>\n",
       "            </tr>\n",
       "            <tr>\n",
       "                                <td id=\"T_f17e6_row8_col0\" class=\"data row8 col0\" >8</td>\n",
       "                        <td id=\"T_f17e6_row8_col1\" class=\"data row8 col1\" >85.71</td>\n",
       "            </tr>\n",
       "            <tr>\n",
       "                                <td id=\"T_f17e6_row9_col0\" class=\"data row9 col0\" >9</td>\n",
       "                        <td id=\"T_f17e6_row9_col1\" class=\"data row9 col1\" >96.67</td>\n",
       "            </tr>\n",
       "            <tr>\n",
       "                                <td id=\"T_f17e6_row10_col0\" class=\"data row10 col0\" >10</td>\n",
       "                        <td id=\"T_f17e6_row10_col1\" class=\"data row10 col1\" >95.38</td>\n",
       "            </tr>\n",
       "            <tr>\n",
       "                                <td id=\"T_f17e6_row11_col0\" class=\"data row11 col0\" >11</td>\n",
       "                        <td id=\"T_f17e6_row11_col1\" class=\"data row11 col1\" >100.00</td>\n",
       "            </tr>\n",
       "            <tr>\n",
       "                                <td id=\"T_f17e6_row12_col0\" class=\"data row12 col0\" >12</td>\n",
       "                        <td id=\"T_f17e6_row12_col1\" class=\"data row12 col1\" >67.39</td>\n",
       "            </tr>\n",
       "            <tr>\n",
       "                                <td id=\"T_f17e6_row13_col0\" class=\"data row13 col0\" >13</td>\n",
       "                        <td id=\"T_f17e6_row13_col1\" class=\"data row13 col1\" >83.33</td>\n",
       "            </tr>\n",
       "            <tr>\n",
       "                                <td id=\"T_f17e6_row14_col0\" class=\"data row14 col0\" >14</td>\n",
       "                        <td id=\"T_f17e6_row14_col1\" class=\"data row14 col1\" >27.78</td>\n",
       "            </tr>\n",
       "            <tr>\n",
       "                                <td id=\"T_f17e6_row15_col0\" class=\"data row15 col0\" >15</td>\n",
       "                        <td id=\"T_f17e6_row15_col1\" class=\"data row15 col1\" >100.00</td>\n",
       "            </tr>\n",
       "            <tr>\n",
       "                                <td id=\"T_f17e6_row16_col0\" class=\"data row16 col0\" >16</td>\n",
       "                        <td id=\"T_f17e6_row16_col1\" class=\"data row16 col1\" >66.67</td>\n",
       "            </tr>\n",
       "            <tr>\n",
       "                                <td id=\"T_f17e6_row17_col0\" class=\"data row17 col0\" >17</td>\n",
       "                        <td id=\"T_f17e6_row17_col1\" class=\"data row17 col1\" >0.00</td>\n",
       "            </tr>\n",
       "            <tr>\n",
       "                                <td id=\"T_f17e6_row18_col0\" class=\"data row18 col0\" >18</td>\n",
       "                        <td id=\"T_f17e6_row18_col1\" class=\"data row18 col1\" >50.00</td>\n",
       "            </tr>\n",
       "            <tr>\n",
       "                                <td id=\"T_f17e6_row19_col0\" class=\"data row19 col0\" >19</td>\n",
       "                        <td id=\"T_f17e6_row19_col1\" class=\"data row19 col1\" >75.00</td>\n",
       "            </tr>\n",
       "            <tr>\n",
       "                                <td id=\"T_f17e6_row20_col0\" class=\"data row20 col0\" >20</td>\n",
       "                        <td id=\"T_f17e6_row20_col1\" class=\"data row20 col1\" >0.00</td>\n",
       "            </tr>\n",
       "            <tr>\n",
       "                                <td id=\"T_f17e6_row21_col0\" class=\"data row21 col0\" >21</td>\n",
       "                        <td id=\"T_f17e6_row21_col1\" class=\"data row21 col1\" >69.23</td>\n",
       "            </tr>\n",
       "            <tr>\n",
       "                                <td id=\"T_f17e6_row22_col0\" class=\"data row22 col0\" >22</td>\n",
       "                        <td id=\"T_f17e6_row22_col1\" class=\"data row22 col1\" >100.00</td>\n",
       "            </tr>\n",
       "            <tr>\n",
       "                                <td id=\"T_f17e6_row23_col0\" class=\"data row23 col0\" >23</td>\n",
       "                        <td id=\"T_f17e6_row23_col1\" class=\"data row23 col1\" >91.04</td>\n",
       "            </tr>\n",
       "            <tr>\n",
       "                                <td id=\"T_f17e6_row24_col0\" class=\"data row24 col0\" >24</td>\n",
       "                        <td id=\"T_f17e6_row24_col1\" class=\"data row24 col1\" >91.67</td>\n",
       "            </tr>\n",
       "            <tr>\n",
       "                                <td id=\"T_f17e6_row25_col0\" class=\"data row25 col0\" >25</td>\n",
       "                        <td id=\"T_f17e6_row25_col1\" class=\"data row25 col1\" >67.65</td>\n",
       "            </tr>\n",
       "            <tr>\n",
       "                                <td id=\"T_f17e6_row26_col0\" class=\"data row26 col0\" >26</td>\n",
       "                        <td id=\"T_f17e6_row26_col1\" class=\"data row26 col1\" >100.00</td>\n",
       "            </tr>\n",
       "            <tr>\n",
       "                                <td id=\"T_f17e6_row27_col0\" class=\"data row27 col0\" >27</td>\n",
       "                        <td id=\"T_f17e6_row27_col1\" class=\"data row27 col1\" >70.59</td>\n",
       "            </tr>\n",
       "            <tr>\n",
       "                                <td id=\"T_f17e6_row28_col0\" class=\"data row28 col0\" >28</td>\n",
       "                        <td id=\"T_f17e6_row28_col1\" class=\"data row28 col1\" >44.44</td>\n",
       "            </tr>\n",
       "            <tr>\n",
       "                                <td id=\"T_f17e6_row29_col0\" class=\"data row29 col0\" >29</td>\n",
       "                        <td id=\"T_f17e6_row29_col1\" class=\"data row29 col1\" >0.00</td>\n",
       "            </tr>\n",
       "            <tr>\n",
       "                                <td id=\"T_f17e6_row30_col0\" class=\"data row30 col0\" >30</td>\n",
       "                        <td id=\"T_f17e6_row30_col1\" class=\"data row30 col1\" >0.00</td>\n",
       "            </tr>\n",
       "            <tr>\n",
       "                                <td id=\"T_f17e6_row31_col0\" class=\"data row31 col0\" >31</td>\n",
       "                        <td id=\"T_f17e6_row31_col1\" class=\"data row31 col1\" >82.61</td>\n",
       "            </tr>\n",
       "            <tr>\n",
       "                                <td id=\"T_f17e6_row32_col0\" class=\"data row32 col0\" >32</td>\n",
       "                        <td id=\"T_f17e6_row32_col1\" class=\"data row32 col1\" >0.00</td>\n",
       "            </tr>\n",
       "            <tr>\n",
       "                                <td id=\"T_f17e6_row33_col0\" class=\"data row33 col0\" >33</td>\n",
       "                        <td id=\"T_f17e6_row33_col1\" class=\"data row33 col1\" >53.85</td>\n",
       "            </tr>\n",
       "            <tr>\n",
       "                                <td id=\"T_f17e6_row34_col0\" class=\"data row34 col0\" >34</td>\n",
       "                        <td id=\"T_f17e6_row34_col1\" class=\"data row34 col1\" >5.00</td>\n",
       "            </tr>\n",
       "            <tr>\n",
       "                                <td id=\"T_f17e6_row35_col0\" class=\"data row35 col0\" >35</td>\n",
       "                        <td id=\"T_f17e6_row35_col1\" class=\"data row35 col1\" >40.00</td>\n",
       "            </tr>\n",
       "            <tr>\n",
       "                                <td id=\"T_f17e6_row36_col0\" class=\"data row36 col0\" >36</td>\n",
       "                        <td id=\"T_f17e6_row36_col1\" class=\"data row36 col1\" >25.00</td>\n",
       "            </tr>\n",
       "            <tr>\n",
       "                                <td id=\"T_f17e6_row37_col0\" class=\"data row37 col0\" >37</td>\n",
       "                        <td id=\"T_f17e6_row37_col1\" class=\"data row37 col1\" >0.00</td>\n",
       "            </tr>\n",
       "            <tr>\n",
       "                                <td id=\"T_f17e6_row38_col0\" class=\"data row38 col0\" >38</td>\n",
       "                        <td id=\"T_f17e6_row38_col1\" class=\"data row38 col1\" >22.22</td>\n",
       "            </tr>\n",
       "            <tr>\n",
       "                                <td id=\"T_f17e6_row39_col0\" class=\"data row39 col0\" >39</td>\n",
       "                        <td id=\"T_f17e6_row39_col1\" class=\"data row39 col1\" >18.97</td>\n",
       "            </tr>\n",
       "            <tr>\n",
       "                                <td id=\"T_f17e6_row40_col0\" class=\"data row40 col0\" >40</td>\n",
       "                        <td id=\"T_f17e6_row40_col1\" class=\"data row40 col1\" >0.00</td>\n",
       "            </tr>\n",
       "            <tr>\n",
       "                                <td id=\"T_f17e6_row41_col0\" class=\"data row41 col0\" >41</td>\n",
       "                        <td id=\"T_f17e6_row41_col1\" class=\"data row41 col1\" >100.00</td>\n",
       "            </tr>\n",
       "            <tr>\n",
       "                                <td id=\"T_f17e6_row42_col0\" class=\"data row42 col0\" >42</td>\n",
       "                        <td id=\"T_f17e6_row42_col1\" class=\"data row42 col1\" >0.00</td>\n",
       "            </tr>\n",
       "            <tr>\n",
       "                                <td id=\"T_f17e6_row43_col0\" class=\"data row43 col0\" >43</td>\n",
       "                        <td id=\"T_f17e6_row43_col1\" class=\"data row43 col1\" >100.00</td>\n",
       "            </tr>\n",
       "            <tr>\n",
       "                                <td id=\"T_f17e6_row44_col0\" class=\"data row44 col0\" >44</td>\n",
       "                        <td id=\"T_f17e6_row44_col1\" class=\"data row44 col1\" >100.00</td>\n",
       "            </tr>\n",
       "            <tr>\n",
       "                                <td id=\"T_f17e6_row45_col0\" class=\"data row45 col0\" >45</td>\n",
       "                        <td id=\"T_f17e6_row45_col1\" class=\"data row45 col1\" >0.00</td>\n",
       "            </tr>\n",
       "            <tr>\n",
       "                                <td id=\"T_f17e6_row46_col0\" class=\"data row46 col0\" >46</td>\n",
       "                        <td id=\"T_f17e6_row46_col1\" class=\"data row46 col1\" >40.00</td>\n",
       "            </tr>\n",
       "            <tr>\n",
       "                                <td id=\"T_f17e6_row47_col0\" class=\"data row47 col0\" >47</td>\n",
       "                        <td id=\"T_f17e6_row47_col1\" class=\"data row47 col1\" >50.00</td>\n",
       "            </tr>\n",
       "            <tr>\n",
       "                                <td id=\"T_f17e6_row48_col0\" class=\"data row48 col0\" >48</td>\n",
       "                        <td id=\"T_f17e6_row48_col1\" class=\"data row48 col1\" >40.00</td>\n",
       "            </tr>\n",
       "            <tr>\n",
       "                                <td id=\"T_f17e6_row49_col0\" class=\"data row49 col0\" >49</td>\n",
       "                        <td id=\"T_f17e6_row49_col1\" class=\"data row49 col1\" >100.00</td>\n",
       "            </tr>\n",
       "            <tr>\n",
       "                                <td id=\"T_f17e6_row50_col0\" class=\"data row50 col0\" >50</td>\n",
       "                        <td id=\"T_f17e6_row50_col1\" class=\"data row50 col1\" >100.00</td>\n",
       "            </tr>\n",
       "            <tr>\n",
       "                                <td id=\"T_f17e6_row51_col0\" class=\"data row51 col0\" >51</td>\n",
       "                        <td id=\"T_f17e6_row51_col1\" class=\"data row51 col1\" >100.00</td>\n",
       "            </tr>\n",
       "            <tr>\n",
       "                                <td id=\"T_f17e6_row52_col0\" class=\"data row52 col0\" >52</td>\n",
       "                        <td id=\"T_f17e6_row52_col1\" class=\"data row52 col1\" >85.00</td>\n",
       "            </tr>\n",
       "            <tr>\n",
       "                                <td id=\"T_f17e6_row53_col0\" class=\"data row53 col0\" >53</td>\n",
       "                        <td id=\"T_f17e6_row53_col1\" class=\"data row53 col1\" >100.00</td>\n",
       "            </tr>\n",
       "    </tbody></table>"
      ],
      "text/plain": [
       "<pandas.io.formats.style.Styler at 0x7f8d0b2fb670>"
      ]
     },
     "execution_count": 43,
     "metadata": {},
     "output_type": "execute_result"
    }
   ],
   "source": [
    "class_wise_acc = cm.diagonal()/cm.sum(axis=1) * 100 \n",
    "class_acc = pd.DataFrame({'Class_Label':[class_names[i] for i in range(54)], 'Accuracy': class_wise_acc.tolist()}, \n",
    "                         columns = ['Class_Label', 'Accuracy'])\n",
    "class_acc.style.format({\"Accuracy\": \"{:,.2f}\",}).hide_index().bar(subset=[\"Accuracy\"], color='orange')"
   ]
  },
  {
   "cell_type": "markdown",
   "metadata": {},
   "source": [
    "\n"
   ]
  },
  {
   "cell_type": "code",
   "execution_count": 48,
   "metadata": {},
   "outputs": [
    {
     "name": "stdout",
     "output_type": "stream",
     "text": [
      "         filename  width  height  x1  y1  x2  y2  category  \\\n",
      "184  008_0009.png    114     102  26  20  86  81         8   \n",
      "\n",
      "                               Path  \n",
      "184  Chinese/TSRD-Test/008_0009.png  \n"
     ]
    }
   ],
   "source": []
  },
  {
   "cell_type": "code",
   "execution_count": 69,
   "metadata": {},
   "outputs": [
    {
     "name": "stdout",
     "output_type": "stream",
     "text": [
      "           filename  width  height  x1  y1   x2  y2  category  \\\n",
      "287  012_0008_j.png    124     115  27  21  101  95        12   \n",
      "\n",
      "                                 Path  \n",
      "287  Chinese/TSRD-Test/012_0008_j.png  \n"
     ]
    },
    {
     "data": {
      "image/png": "[encoded data removed]",
      "text/plain": [
       "<Figure size 180x180 with 1 Axes>"
      ]
     },
     "metadata": {
      "needs_background": "light"
     },
     "output_type": "display_data"
    },
    {
     "name": "stdout",
     "output_type": "stream",
     "text": [
      "(1, 58)\n",
      "ClassId: 26\n",
      "Label: 27\n"
     ]
    }
   ],
   "source": [
    "a = 287\n",
    "\n",
    "# Preparing image for test dataset\n",
    "x_input = X_test[a:a+1]\n",
    "#print(x_input.shape)\n",
    "y_input = y_test[a:a+1]\n",
    "print(y_input)\n",
    "\n",
    "plt.rcParams['figure.figsize'] = (2.5, 2.5) # Setting default size of plots\n",
    "plt.imshow(x_input[0, :, :, :])\n",
    "plt.axis('off')\n",
    "\n",
    "plt.show()\n",
    "\n",
    "scores = model.predict(x_input)\n",
    "print(scores.shape) \n",
    "\n",
    "prediction = np.argmax(scores)\n",
    "print('ClassId:', prediction)\n",
    "\n",
    "print('Label:', labels[prediction])"
   ]
  },
  {
   "cell_type": "markdown",
   "metadata": {},
   "source": [
    "\n"
   ]
  },
  {
   "cell_type": "markdown",
   "metadata": {},
   "source": [
    "\n"
   ]
  },
  {
   "cell_type": "markdown",
   "metadata": {},
   "source": [
    "\n"
   ]
  },
  {
   "cell_type": "markdown",
   "metadata": {},
   "source": [
    "\n"
   ]
  },
  {
   "cell_type": "markdown",
   "metadata": {},
   "source": [
    "\n"
   ]
  },
  {
   "cell_type": "markdown",
   "metadata": {},
   "source": [
    "\n"
   ]
  },
  {
   "cell_type": "markdown",
   "metadata": {},
   "source": [
    "\n"
   ]
  }
 ],
 "metadata": {
  "kernelspec": {
   "display_name": "Python 3",
   "language": "python",
   "name": "python3"
  },
  "language_info": {
   "codemirror_mode": {
    "name": "ipython",
    "version": 3
   },
   "file_extension": ".py",
   "mimetype": "text/x-python",
   "name": "python",
   "nbconvert_exporter": "python",
   "pygments_lexer": "ipython3",
   "version": "3.8.8"
  }
 },
 "nbformat": 4,
 "nbformat_minor": 2
}
